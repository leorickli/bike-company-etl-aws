{
 "cells": [
  {
   "cell_type": "code",
   "execution_count": 1,
   "metadata": {},
   "outputs": [],
   "source": [
    "import pandas as pd\n",
    "\n",
    "pd.set_option('display.max_colwidth', None)\n",
    "pd.set_option('display.max_columns', None) "
   ]
  },
  {
   "cell_type": "code",
   "execution_count": 2,
   "metadata": {},
   "outputs": [
    {
     "data": {
      "text/html": [
       "<div>\n",
       "<style scoped>\n",
       "    .dataframe tbody tr th:only-of-type {\n",
       "        vertical-align: middle;\n",
       "    }\n",
       "\n",
       "    .dataframe tbody tr th {\n",
       "        vertical-align: top;\n",
       "    }\n",
       "\n",
       "    .dataframe thead th {\n",
       "        text-align: right;\n",
       "    }\n",
       "</style>\n",
       "<table border=\"1\" class=\"dataframe\">\n",
       "  <thead>\n",
       "    <tr style=\"text-align: right;\">\n",
       "      <th></th>\n",
       "      <th>SpecialOfferID</th>\n",
       "      <th>ProductID</th>\n",
       "      <th>rowguid</th>\n",
       "      <th>ModifiedDate</th>\n",
       "    </tr>\n",
       "  </thead>\n",
       "  <tbody>\n",
       "    <tr>\n",
       "      <th>0</th>\n",
       "      <td>1</td>\n",
       "      <td>680</td>\n",
       "      <td>BB30B868-D86C-4557-8DB2-4B2D0A83A0FB</td>\n",
       "      <td>2011-04-01 00:00:00.000</td>\n",
       "    </tr>\n",
       "    <tr>\n",
       "      <th>1</th>\n",
       "      <td>1</td>\n",
       "      <td>706</td>\n",
       "      <td>B3C9A4B1-2AE6-4CBA-B552-1F206C9F4C1F</td>\n",
       "      <td>2011-04-01 00:00:00.000</td>\n",
       "    </tr>\n",
       "    <tr>\n",
       "      <th>2</th>\n",
       "      <td>1</td>\n",
       "      <td>707</td>\n",
       "      <td>27B711FE-0B77-4EA4-AD1A-7C239956BEF4</td>\n",
       "      <td>2011-04-01 00:00:00.000</td>\n",
       "    </tr>\n",
       "    <tr>\n",
       "      <th>3</th>\n",
       "      <td>1</td>\n",
       "      <td>708</td>\n",
       "      <td>46CBB78B-246E-4D69-9BD6-E521277C1078</td>\n",
       "      <td>2011-04-01 00:00:00.000</td>\n",
       "    </tr>\n",
       "    <tr>\n",
       "      <th>4</th>\n",
       "      <td>1</td>\n",
       "      <td>709</td>\n",
       "      <td>CF102AA0-055F-4D2B-8B98-04B161758EA8</td>\n",
       "      <td>2011-04-01 00:00:00.000</td>\n",
       "    </tr>\n",
       "  </tbody>\n",
       "</table>\n",
       "</div>"
      ],
      "text/plain": [
       "   SpecialOfferID  ProductID                               rowguid  \\\n",
       "0               1        680  BB30B868-D86C-4557-8DB2-4B2D0A83A0FB   \n",
       "1               1        706  B3C9A4B1-2AE6-4CBA-B552-1F206C9F4C1F   \n",
       "2               1        707  27B711FE-0B77-4EA4-AD1A-7C239956BEF4   \n",
       "3               1        708  46CBB78B-246E-4D69-9BD6-E521277C1078   \n",
       "4               1        709  CF102AA0-055F-4D2B-8B98-04B161758EA8   \n",
       "\n",
       "              ModifiedDate  \n",
       "0  2011-04-01 00:00:00.000  \n",
       "1  2011-04-01 00:00:00.000  \n",
       "2  2011-04-01 00:00:00.000  \n",
       "3  2011-04-01 00:00:00.000  \n",
       "4  2011-04-01 00:00:00.000  "
      ]
     },
     "execution_count": 2,
     "metadata": {},
     "output_type": "execute_result"
    }
   ],
   "source": [
    "df = pd.read_csv('Sales.SpecialOfferProduct.csv', sep=';')\n",
    "df.head()"
   ]
  },
  {
   "cell_type": "code",
   "execution_count": 3,
   "metadata": {},
   "outputs": [
    {
     "data": {
      "text/plain": [
       "0      False\n",
       "1      False\n",
       "2      False\n",
       "3      False\n",
       "4      False\n",
       "       ...  \n",
       "533     True\n",
       "534     True\n",
       "535     True\n",
       "536     True\n",
       "537     True\n",
       "Name: ProductID, Length: 538, dtype: bool"
      ]
     },
     "execution_count": 3,
     "metadata": {},
     "output_type": "execute_result"
    }
   ],
   "source": [
    "# Check duplicates in primary key\n",
    "df['ProductID'].duplicated()"
   ]
  },
  {
   "cell_type": "code",
   "execution_count": 4,
   "metadata": {},
   "outputs": [],
   "source": [
    "column_to_check = 'ProductID'\n",
    "df_without_duplicates = df.drop_duplicates(subset=column_to_check, keep='first')"
   ]
  },
  {
   "cell_type": "code",
   "execution_count": 5,
   "metadata": {},
   "outputs": [],
   "source": [
    "df_without_duplicates.to_csv('SpecialOfferProduct.csv', index=False)"
   ]
  }
 ],
 "metadata": {
  "kernelspec": {
   "display_name": "Python 3",
   "language": "python",
   "name": "python3"
  },
  "language_info": {
   "codemirror_mode": {
    "name": "ipython",
    "version": 3
   },
   "file_extension": ".py",
   "mimetype": "text/x-python",
   "name": "python",
   "nbconvert_exporter": "python",
   "pygments_lexer": "ipython3",
   "version": "3.11.1"
  },
  "orig_nbformat": 4
 },
 "nbformat": 4,
 "nbformat_minor": 2
}
